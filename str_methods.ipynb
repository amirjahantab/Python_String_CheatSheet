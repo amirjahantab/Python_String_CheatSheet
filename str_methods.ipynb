{
 "cells": [
  {
   "cell_type": "markdown",
   "metadata": {},
   "source": [
    "<div class=\"alert alert-light\">\n",
    "    <h1 align=\"center\">String Methods Cheat Sheet</h1>\n",
    "    <h4 align=\"center\"><a href=\"https://github.com/amirjahantab/\">Amirreza Jahantab</a></h4>\n",
    "\n",
    "</div>"
   ]
  },
  {
   "cell_type": "markdown",
   "metadata": {},
   "source": [
    "### Basic Methods"
   ]
  },
  {
   "cell_type": "code",
   "execution_count": null,
   "metadata": {},
   "outputs": [],
   "source": [
    "# str.capitalize()\n",
    "# Capitalizes the first character of the string.\n",
    "s = \"hello\"\n",
    "print(s.capitalize())  # Output: \"Hello\""
   ]
  },
  {
   "cell_type": "code",
   "execution_count": null,
   "metadata": {},
   "outputs": [],
   "source": [
    "# str.lower()\n",
    "# Converts all characters to lowercase.\n",
    "s = \"HELLO\"\n",
    "print(s.lower())  # Output: \"hello\""
   ]
  },
  {
   "cell_type": "code",
   "execution_count": null,
   "metadata": {},
   "outputs": [],
   "source": [
    "# str.upper()\n",
    "# Converts all characters to uppercase.\n",
    "s = \"hello\"\n",
    "print(s.upper())  # Output: \"HELLO\""
   ]
  },
  {
   "cell_type": "code",
   "execution_count": null,
   "metadata": {},
   "outputs": [],
   "source": [
    "# str.title()\n",
    "# Converts the first character of each word to uppercase.\n",
    "s = \"hello world\"\n",
    "print(s.title())  # Output: \"Hello World\""
   ]
  },
  {
   "cell_type": "code",
   "execution_count": null,
   "metadata": {},
   "outputs": [],
   "source": [
    "# str.swapcase()\n",
    "# Swaps the case of all characters.\n",
    "s = \"Hello\"\n",
    "print(s.swapcase())  # Output: \"hELLO\""
   ]
  },
  {
   "cell_type": "code",
   "execution_count": null,
   "metadata": {},
   "outputs": [],
   "source": [
    "# str.casefold()\n",
    "# Converts to lowercase, suitable for caseless comparisons.\n",
    "s = \"HELLO\"\n",
    "print(s.casefold())  # Output: \"hello\""
   ]
  },
  {
   "cell_type": "markdown",
   "metadata": {},
   "source": [
    "### Query Methods"
   ]
  },
  {
   "cell_type": "code",
   "execution_count": null,
   "metadata": {},
   "outputs": [],
   "source": [
    "# str.islower()\n",
    "# Checks if all characters are lowercase.\n",
    "s = \"hello\"\n",
    "print(s.islower())  # Output: True"
   ]
  },
  {
   "cell_type": "code",
   "execution_count": null,
   "metadata": {},
   "outputs": [],
   "source": [
    "# str.isupper()\n",
    "# Checks if all characters are uppercase.\n",
    "s = \"HELLO\"\n",
    "print(s.isupper())  # Output: True"
   ]
  },
  {
   "cell_type": "code",
   "execution_count": null,
   "metadata": {},
   "outputs": [],
   "source": [
    "# str.istitle()\n",
    "# Checks if the string is title-cased.\n",
    "s = \"Hello World\"\n",
    "print(s.istitle())  # Output: True"
   ]
  },
  {
   "cell_type": "code",
   "execution_count": null,
   "metadata": {},
   "outputs": [],
   "source": [
    "# str.isalpha()\n",
    "# Checks if all characters are alphabetic.\n",
    "s = \"Hello\"\n",
    "print(s.isalpha())  # Output: True"
   ]
  },
  {
   "cell_type": "code",
   "execution_count": null,
   "metadata": {},
   "outputs": [],
   "source": [
    "# str.isdigit()\n",
    "# Checks if all characters are digits.\n",
    "s = \"123\"\n",
    "print(s.isdigit())  # Output: True"
   ]
  },
  {
   "cell_type": "code",
   "execution_count": null,
   "metadata": {},
   "outputs": [],
   "source": [
    "# str.isalnum()\n",
    "# Checks if all characters are alphanumeric.\n",
    "s = \"Hello123\"\n",
    "s1 = \"Hello123!\"\n",
    "print(s.isalnum())  # Output: True\n",
    "print(s1.isalnum())  # Output: False"
   ]
  },
  {
   "cell_type": "code",
   "execution_count": null,
   "metadata": {},
   "outputs": [],
   "source": [
    "# str.isnumeric()\n",
    "# Checks if all characters are numeric.\n",
    "s = \"1230\"\n",
    "print(s.isnumeric())  # Output: True"
   ]
  },
  {
   "cell_type": "code",
   "execution_count": null,
   "metadata": {},
   "outputs": [],
   "source": [
    "# str.isdecimal()\n",
    "# Checks if all characters are decimal characters.\n",
    "s = \"123\"\n",
    "print(s.isdecimal())  # Output: True"
   ]
  },
  {
   "cell_type": "code",
   "execution_count": null,
   "metadata": {},
   "outputs": [],
   "source": [
    "# str.isspace()\n",
    "# Checks if all characters are whitespace.\n",
    "s = \" \"\n",
    "print(s.isspace())  # Output: True"
   ]
  },
  {
   "cell_type": "code",
   "execution_count": null,
   "metadata": {},
   "outputs": [],
   "source": [
    "# str.startswith(prefix[, start[, end]])\n",
    "# Checks if the string starts with the specified prefix.\n",
    "s = \"hello\"\n",
    "print(s.startswith(\"he\"))  # Output: True"
   ]
  },
  {
   "cell_type": "code",
   "execution_count": null,
   "metadata": {},
   "outputs": [],
   "source": [
    "# str.endswith(suffix[, start[, end]])\n",
    "# Checks if the string ends with the specified suffix.\n",
    "s = \"hello\"\n",
    "print(s.endswith(\"lo\"))  # Output: True"
   ]
  },
  {
   "cell_type": "markdown",
   "metadata": {},
   "source": [
    "### Modification Methods"
   ]
  },
  {
   "cell_type": "code",
   "execution_count": null,
   "metadata": {},
   "outputs": [],
   "source": [
    "# str.strip([chars])\n",
    "# Removes leading and trailing characters (default is whitespace).\n",
    "s = \"  hello  \"\n",
    "print(s.strip())  # Output: \"hello\""
   ]
  },
  {
   "cell_type": "code",
   "execution_count": null,
   "metadata": {},
   "outputs": [],
   "source": [
    "# str.lstrip([chars])\n",
    "# Removes leading characters (default is whitespace).\n",
    "s = \"  hello  \"\n",
    "print(s.lstrip())  # Output: \"hello  \""
   ]
  },
  {
   "cell_type": "code",
   "execution_count": null,
   "metadata": {},
   "outputs": [],
   "source": [
    "# str.rstrip([chars])\n",
    "# Removes trailing characters (default is whitespace).\n",
    "s = \"  hello  \"\n",
    "print(s.rstrip())  # Output: \"  hello\""
   ]
  },
  {
   "cell_type": "code",
   "execution_count": null,
   "metadata": {},
   "outputs": [],
   "source": [
    "# str.replace(old, new[, count])\n",
    "# Replaces occurrences of a substring.\n",
    "s = \"hello world\"\n",
    "print(s.replace(\"world\", \"there\"))  # Output: \"hello there\""
   ]
  },
  {
   "cell_type": "code",
   "execution_count": null,
   "metadata": {},
   "outputs": [],
   "source": [
    "# str.join(iterable)\n",
    "# Joins elements of an iterable with the string as a separator.\n",
    "print(\", \".join([\"a\", \"b\", \"c\"]))  # Output: \"a, b, c\""
   ]
  },
  {
   "cell_type": "code",
   "execution_count": null,
   "metadata": {},
   "outputs": [],
   "source": [
    "# str.split(sep=None, maxsplit=-1)\n",
    "# Splits the string by the specified separator.\n",
    "s = \"hello world\"\n",
    "print(s.split())  # Output: [\"hello\", \"world\"]"
   ]
  },
  {
   "cell_type": "code",
   "execution_count": null,
   "metadata": {},
   "outputs": [],
   "source": [
    "# str.rsplit(sep=None, maxsplit=-1)\n",
    "# Splits the string by the specified separator, starting from the right.\n",
    "s = \"hello world\"\n",
    "print(s.rsplit())  # Output: [\"hello\", \"world\"]"
   ]
  },
  {
   "cell_type": "code",
   "execution_count": null,
   "metadata": {},
   "outputs": [],
   "source": [
    "# str.splitlines([keepends])\n",
    "# Splits the string at line breaks.\n",
    "s = \"hello\\nworld\"\n",
    "print(s.splitlines())  # Output: [\"hello\", \"world\"]"
   ]
  },
  {
   "cell_type": "code",
   "execution_count": null,
   "metadata": {},
   "outputs": [],
   "source": [
    "# str.partition(sep)\n",
    "# Splits the string at the first occurrence of the separator.\n",
    "s = \"hello world\"\n",
    "print(s.partition(\" \"))  # Output: (\"hello\", \" \", \"world\")"
   ]
  },
  {
   "cell_type": "code",
   "execution_count": null,
   "metadata": {},
   "outputs": [],
   "source": [
    "# str.rpartition(sep)\n",
    "# Splits the string at the last occurrence of the separator.\n",
    "s = \"hello world\"\n",
    "print(s.rpartition(\" \"))  # Output: (\"hello\", \" \", \"world\")"
   ]
  },
  {
   "cell_type": "code",
   "execution_count": null,
   "metadata": {},
   "outputs": [],
   "source": [
    "# str.expandtabs(tabsize=8)\n",
    "# Expands tabs into spaces.\n",
    "s = \"hello\\tworld\"\n",
    "print(s.expandtabs(4))  # Output: \"hello   world\""
   ]
  },
  {
   "cell_type": "markdown",
   "metadata": {},
   "source": [
    "### Search Methods"
   ]
  },
  {
   "cell_type": "code",
   "execution_count": null,
   "metadata": {},
   "outputs": [],
   "source": [
    "# str.find(sub[, start[, end]])\n",
    "# Finds the lowest index of the substring.\n",
    "s = \"hello\"\n",
    "print(s.find(\"e\"))  # Output: 1"
   ]
  },
  {
   "cell_type": "code",
   "execution_count": null,
   "metadata": {},
   "outputs": [],
   "source": [
    "# str.rfind(sub[, start[, end]])\n",
    "# Finds the highest index of the substring.\n",
    "s = \"hello\"\n",
    "print(s.rfind(\"l\"))  # Output: 3"
   ]
  },
  {
   "cell_type": "code",
   "execution_count": null,
   "metadata": {},
   "outputs": [],
   "source": [
    "# str.index(sub[, start[, end]])\n",
    "# Finds the lowest index of the substring, raises an error if not found.\n",
    "s = \"hello\"\n",
    "print(s.index(\"e\"))  # Output: 1"
   ]
  },
  {
   "cell_type": "code",
   "execution_count": null,
   "metadata": {},
   "outputs": [],
   "source": [
    "# str.rindex(sub[, start[, end]])\n",
    "# Finds the highest index of the substring, raises an error if not found.\n",
    "s = \"hello\"\n",
    "print(s.rindex(\"l\"))  # Output: 3"
   ]
  },
  {
   "cell_type": "code",
   "execution_count": null,
   "metadata": {},
   "outputs": [],
   "source": [
    "# str.count(sub[, start[, end]])\n",
    "# Counts occurrences of a substring.\n",
    "s = \"hello\"\n",
    "print(s.count(\"l\"))  # Output: 2"
   ]
  },
  {
   "cell_type": "markdown",
   "metadata": {},
   "source": [
    "### Formatting Methods"
   ]
  },
  {
   "cell_type": "code",
   "execution_count": null,
   "metadata": {},
   "outputs": [],
   "source": [
    "# str.center(width[, fillchar])\n",
    "# Centers the string in a field of the given width.\n",
    "s = \"hello\"\n",
    "print(s.center(10))  # Output: \"  hello   \""
   ]
  },
  {
   "cell_type": "code",
   "execution_count": null,
   "metadata": {},
   "outputs": [],
   "source": [
    "# str.ljust(width[, fillchar])\n",
    "# Left-justifies the string in a field of the given width.\n",
    "s = \"hello\"\n",
    "print(s.ljust(10))  # Output: \"hello     \""
   ]
  },
  {
   "cell_type": "code",
   "execution_count": null,
   "metadata": {},
   "outputs": [],
   "source": [
    "# str.rjust(width[, fillchar])\n",
    "# Right-justifies the string in a field of the given width.\n",
    "s = \"hello\"\n",
    "print(s.rjust(10))  # Output: \"     hello\""
   ]
  },
  {
   "cell_type": "code",
   "execution_count": null,
   "metadata": {},
   "outputs": [],
   "source": [
    "# str.zfill(width)\n",
    "# Pads the string with zeros on the left, to fill the given width.\n",
    "s = \"42\"\n",
    "print(s.zfill(5))  # Output: \"00042\""
   ]
  },
  {
   "cell_type": "code",
   "execution_count": null,
   "metadata": {},
   "outputs": [],
   "source": [
    "# str.format(*args, **kwargs)\n",
    "# Performs a string formatting operation.\n",
    "print(\"{name} is {age} years old\".format(name=\"Alice\", age=30))  # Output: \"Alice is 30 years old\""
   ]
  },
  {
   "cell_type": "code",
   "execution_count": null,
   "metadata": {},
   "outputs": [],
   "source": [
    "# str.format_map(mapping)\n",
    "# Formats the string using a mapping.\n",
    "print(\"{name} is {age} years old\".format_map({\"name\": \"Alice\", \"age\": 30}))  # Output: \"Alice is 30 years old\""
   ]
  },
  {
   "cell_type": "markdown",
   "metadata": {},
   "source": [
    "### Encoding and Decoding Methods"
   ]
  },
  {
   "cell_type": "code",
   "execution_count": null,
   "metadata": {},
   "outputs": [],
   "source": [
    "# str.encode(encoding=\"utf-8\", errors=\"strict\")\n",
    "# Encodes the string to bytes using the specified encoding.\n",
    "s = \"hello\"\n",
    "print(s.encode())  # Output: b'hello'"
   ]
  },
  {
   "cell_type": "code",
   "execution_count": null,
   "metadata": {},
   "outputs": [],
   "source": [
    "# str.decode(encoding=\"utf-8\", errors=\"strict\")\n",
    "# Decodes the bytes to a string using the specified encoding.\n",
    "b = b'hello'\n",
    "print(b.decode())  # Output: \"hello\""
   ]
  }
 ],
 "metadata": {
  "kernelspec": {
   "display_name": "Python 3 (ipykernel)",
   "language": "python",
   "name": "python3"
  },
  "language_info": {
   "codemirror_mode": {
    "name": "ipython",
    "version": 3
   },
   "file_extension": ".py",
   "mimetype": "text/x-python",
   "name": "python",
   "nbconvert_exporter": "python",
   "pygments_lexer": "ipython3",
   "version": "3.10.12"
  }
 },
 "nbformat": 4,
 "nbformat_minor": 4
}
